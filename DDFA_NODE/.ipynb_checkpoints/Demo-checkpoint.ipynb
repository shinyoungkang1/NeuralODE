{
 "cells": [
  {
   "cell_type": "code",
   "execution_count": 1,
   "id": "34a62c4b-217d-4b8d-8706-52607e752942",
   "metadata": {},
   "outputs": [],
   "source": [
    "import os\n",
    "os.environ[\"R_HOME\"] = \"/home/michael/anaconda3/envs/torch/lib/R\"\n",
    "import numpy as np\n",
    "import src as ddfa_node\n",
    "import matplotlib.pyplot as plt\n",
    "import importlib\n",
    "import torch\n",
    "importlib.reload(ddfa_node)\n",
    "%load_ext autoreload\n",
    "%autoreload 2"
   ]
  },
  {
   "cell_type": "markdown",
   "id": "0be20147-e2c8-4b75-b925-bb67916d4499",
   "metadata": {},
   "source": [
    "## Load and prepare data"
   ]
  },
  {
   "cell_type": "code",
   "execution_count": 2,
   "id": "02adb7ae",
   "metadata": {},
   "outputs": [],
   "source": [
    "def load_data_normalize(obs_dim, datafilepath):\n",
    "    data = np.load(datafilepath)\n",
    "    traj_tot = np.load(datafilepath).reshape(72, 1500, obs_dim)\n",
    "    traj_tot = traj_tot[:,150:1350,:]\n",
    "    data = data[:, 300:1200, :]\n",
    "    data = data.reshape(72, 900, obs_dim)\n",
    "    noise_std = 0.2\n",
    "\n",
    "    orig_trajs = np.zeros((data.shape[0],data.shape[1],data.shape[2]))\n",
    "    for i in range(data.shape[0]):\n",
    "        for j in range(data.shape[2]):\n",
    "            trajs = data[i,:,j]\n",
    "            trajs_tot = traj_tot[i,:,j]\n",
    "            orig_trajs[i,:,j] = (trajs - trajs_tot.mean()) / trajs_tot.std()\n",
    "            \n",
    "    #samp_trajs += npr.randn(*samp_trajs.shape) * noise_std #add noise\n",
    "\n",
    "    return orig_trajs\n"
   ]
  },
  {
   "cell_type": "code",
   "execution_count": 3,
   "id": "dfbcc272-33f2-4b0a-910c-3aed7503620f",
   "metadata": {},
   "outputs": [],
   "source": [
    "data_path = \"/home/michael/Synology/Desktop/Data/Julia/data/human_data.npy\"\n",
    "data = load_data_normalize(6, '/home/michael/Synology/Desktop/Data/Julia/data/human_data.npy')"
   ]
  },
  {
   "cell_type": "code",
   "execution_count": 4,
   "id": "b93343fc-9dce-4e06-b255-14bfda0c5e10",
   "metadata": {},
   "outputs": [],
   "source": [
    "time_delayed_data, k, τ = ddfa_node.embed_data(data, maxlags=500)"
   ]
  },
  {
   "cell_type": "markdown",
   "id": "680f58e4-9282-438d-ae08-7f6c9424cff4",
   "metadata": {},
   "source": [
    "## Train and evaluate model"
   ]
  },
  {
   "cell_type": "code",
   "execution_count": 5,
   "id": "8f0b475a",
   "metadata": {},
   "outputs": [],
   "source": [
    "def split_data(data, train_size=0.5):\n",
    "    n = data.shape[0]\n",
    "    n_train = int(n * train_size)\n",
    "    return data[:, :n_train, :], data[:, n_train:, :]"
   ]
  },
  {
   "cell_type": "code",
   "execution_count": 10,
   "id": "4010e138-1fc3-4c3f-8dee-ed2a9200669a",
   "metadata": {},
   "outputs": [],
   "source": [
    "device = torch.device('cuda' if torch.cuda.is_available() else 'cpu')\n",
    "data_train, data_val = ddfa_node.split_data(time_delayed_data, 0.8)\n",
    "data_train, data_val = torch.from_numpy(data_train).float().to(device), torch.from_numpy(data_val).float().to(device)\n",
    "batch_size = 72\n",
    "\n",
    "ts_num = 2.5\n",
    "tot_num = data_train.shape[1]\n",
    "\n",
    "samp_ts = np.linspace(0, ts_num, num=tot_num)\n",
    "samp_ts = torch.from_numpy(samp_ts).float().to(device)\n",
    "\n",
    "val_num = ts_num / tot_num * data_val.shape[1]\n",
    "val_ts = np.linspace(0, val_num, data_val.shape[1])\n",
    "val_ts = torch.from_numpy(val_ts).float().to(device)"
   ]
  },
  {
   "cell_type": "code",
   "execution_count": null,
   "id": "ec64dc93-bbf2-46f2-9512-6c4ca82f946b",
   "metadata": {},
   "outputs": [
    {
     "name": "stdout",
     "output_type": "stream",
     "text": [
      "Iter: 0, running avg mse: 1.0435962677001953, val_loss: 1.0306851863861084\n",
      "Iter: 5, running avg mse: 1.0013834238052368, val_loss: 1.0090751647949219\n",
      "Iter: 10, running avg mse: 1.00042724609375, val_loss: 1.0084443092346191\n",
      "Iter: 15, running avg mse: 0.9998592138290405, val_loss: 1.0078486204147339\n",
      "Iter: 20, running avg mse: 0.9996234774589539, val_loss: 1.0072426795959473\n"
     ]
    }
   ],
   "source": [
    "latent_dim = 12\n",
    "n_hidden = 64\n",
    "dec_hidden = 12\n",
    "obs_dim = data_train.shape[-1]\n",
    "rnn_hidden = 256\n",
    "n_itrs = 1000\n",
    "noise_std = 0.2\n",
    "lr = 1e-2\n",
    "\n",
    "\n",
    "model = ddfa_node.network_training.train_network(data_train=data_train, data_val=data_val, device=device, samp_ts=samp_ts, val_ts=val_ts, n_itrs=n_itrs, latent_dim=latent_dim, n_hidden=n_hidden, obs_dim=obs_dim, rnn_hidden=rnn_hidden, dec_hidden=dec_hidden, batch_size=batch_size, lr=lr)"
   ]
  },
  {
   "cell_type": "code",
   "execution_count": null,
   "id": "a1f755e9-c65e-4afc-a148-85da2e1caf08",
   "metadata": {},
   "outputs": [],
   "source": [
    "metrics = model.evaluate()"
   ]
  },
  {
   "cell_type": "markdown",
   "id": "baa52f5c-4bd7-4834-8b99-dccd84a6a061",
   "metadata": {},
   "source": [
    "## Get self-driven data"
   ]
  },
  {
   "cell_type": "code",
   "execution_count": null,
   "id": "38fb008b-a223-44f4-87af-5f8fac3e44f1",
   "metadata": {},
   "outputs": [],
   "source": [
    "self_generated_data = ddfa_node.generation.self_drive_model(model, steps=5000)"
   ]
  },
  {
   "cell_type": "markdown",
   "id": "9eb56a79-6dd2-4ee7-b8dd-9291aaee2161",
   "metadata": {},
   "source": [
    "## Estimate Floquet multipliers"
   ]
  },
  {
   "cell_type": "code",
   "execution_count": null,
   "id": "0f938f80-573b-4627-a97b-cd814724dbca",
   "metadata": {},
   "outputs": [],
   "source": [
    "λs = ddfa_node.get_FM(self_generated_data)"
   ]
  },
  {
   "cell_type": "markdown",
   "id": "df0ddf87-c096-4648-9a43-c8dd929dad43",
   "metadata": {},
   "source": [
    "## Visualize Floquet multipliers"
   ]
  },
  {
   "cell_type": "code",
   "execution_count": null,
   "id": "27ee2c98-c890-4928-8f0d-8e6feab2428f",
   "metadata": {},
   "outputs": [],
   "source": [
    "ddfa_node.make_FM_plots(λs)"
   ]
  }
 ],
 "metadata": {
  "kernelspec": {
   "display_name": "torch",
   "language": "python",
   "name": "torch"
  },
  "language_info": {
   "codemirror_mode": {
    "name": "ipython",
    "version": 3
   },
   "file_extension": ".py",
   "mimetype": "text/x-python",
   "name": "python",
   "nbconvert_exporter": "python",
   "pygments_lexer": "ipython3",
   "version": "3.11.7"
  }
 },
 "nbformat": 4,
 "nbformat_minor": 5
}
