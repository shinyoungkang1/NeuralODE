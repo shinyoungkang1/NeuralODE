{
 "cells": [
  {
   "cell_type": "code",
   "execution_count": null,
   "id": "34a62c4b-217d-4b8d-8706-52607e752942",
   "metadata": {},
   "outputs": [],
   "source": [
    "import numpy as np\n",
    "import DDFA_NODE as ddfa_node"
   ]
  },
  {
   "cell_type": "markdown",
   "id": "0be20147-e2c8-4b75-b925-bb67916d4499",
   "metadata": {},
   "source": [
    "## Load and prepare data"
   ]
  },
  {
   "cell_type": "code",
   "execution_count": null,
   "id": "dfbcc272-33f2-4b0a-910c-3aed7503620f",
   "metadata": {},
   "outputs": [],
   "source": [
    "data_path = \"\"\n",
    "data = np.load(data_path)"
   ]
  },
  {
   "cell_type": "code",
   "execution_count": null,
   "id": "b93343fc-9dce-4e06-b255-14bfda0c5e10",
   "metadata": {},
   "outputs": [],
   "source": [
    "time_delayed_data = ddfa_node.tde.embed_data(data)"
   ]
  },
  {
   "cell_type": "markdown",
   "id": "680f58e4-9282-438d-ae08-7f6c9424cff4",
   "metadata": {},
   "source": [
    "## Train and evaluate model"
   ]
  },
  {
   "cell_type": "code",
   "execution_count": null,
   "id": "38ad87ed-5b1e-4c47-9d74-dc47ba8bdf2c",
   "metadata": {},
   "outputs": [],
   "source": [
    "model = ddfa_node.network_training.train_network(time_delayed_data, ddfa_node.latent_neural_ode_model.NODE())"
   ]
  },
  {
   "cell_type": "code",
   "execution_count": null,
   "id": "a1f755e9-c65e-4afc-a148-85da2e1caf08",
   "metadata": {},
   "outputs": [],
   "source": [
    "metrics = model.evaluate()"
   ]
  },
  {
   "cell_type": "markdown",
   "id": "baa52f5c-4bd7-4834-8b99-dccd84a6a061",
   "metadata": {},
   "source": [
    "## Get self-driven data"
   ]
  },
  {
   "cell_type": "code",
   "execution_count": null,
   "id": "38fb008b-a223-44f4-87af-5f8fac3e44f1",
   "metadata": {},
   "outputs": [],
   "source": [
    "self_generated_data = ddfa_node.generation.self_drive_model(model, steps=5000)"
   ]
  },
  {
   "cell_type": "markdown",
   "id": "9eb56a79-6dd2-4ee7-b8dd-9291aaee2161",
   "metadata": {},
   "source": [
    "## Estimate Floquet multipliers"
   ]
  },
  {
   "cell_type": "code",
   "execution_count": null,
   "id": "0f938f80-573b-4627-a97b-cd814724dbca",
   "metadata": {},
   "outputs": [],
   "source": [
    "λs = ddfa_node.get_FM(self_generated_data)"
   ]
  },
  {
   "cell_type": "markdown",
   "id": "df0ddf87-c096-4648-9a43-c8dd929dad43",
   "metadata": {},
   "source": [
    "## Visualize Floquet multipliers"
   ]
  },
  {
   "cell_type": "code",
   "execution_count": null,
   "id": "27ee2c98-c890-4928-8f0d-8e6feab2428f",
   "metadata": {},
   "outputs": [],
   "source": [
    "ddfa_node.make_FM_plots(λs)"
   ]
  }
 ],
 "metadata": {
  "kernelspec": {
   "display_name": "Python 3 (ipykernel)",
   "language": "python",
   "name": "python3"
  },
  "language_info": {
   "codemirror_mode": {
    "name": "ipython",
    "version": 3
   },
   "file_extension": ".py",
   "mimetype": "text/x-python",
   "name": "python",
   "nbconvert_exporter": "python",
   "pygments_lexer": "ipython3",
   "version": "3.9.13"
  }
 },
 "nbformat": 4,
 "nbformat_minor": 5
}
